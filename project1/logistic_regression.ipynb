{
 "cells": [
  {
   "cell_type": "code",
   "execution_count": 42,
   "metadata": {},
   "outputs": [],
   "source": [
    "import pandas as pd\n",
    "from sklearn.model_selection import train_test_split\n",
    "\n",
    "# read csv file\n",
    "data = pd.read_csv(\"Data.csv\", sep=\";\")\n",
    "\n",
    "# get features!\n",
    "X = data[[\"Reason\",\"Gender\",\"Age\",\"Mobility\",\"Distance\"]]\n",
    "\n",
    "# get output!\n",
    "y = data[[\"Participation\"]]\n",
    "\n",
    "# encode Reason, Gender and Mobility features with one-hot encode, since they are string and not integers!\n",
    "X = pd.get_dummies(X, columns=['Reason', 'Gender', 'Mobility'])\n",
    "\n",
    "# split to training set and test set!\n",
    "X_train, X_test, y_train, y_test = train_test_split(X, y, test_size=0.33, random_state=42)"
   ]
  },
  {
   "cell_type": "code",
   "execution_count": null,
   "metadata": {},
   "outputs": [],
   "source": []
  },
  {
   "cell_type": "code",
   "execution_count": null,
   "metadata": {},
   "outputs": [],
   "source": []
  }
 ],
 "metadata": {
  "kernelspec": {
   "display_name": "Python 3.6",
   "language": "python",
   "name": "python36"
  },
  "language_info": {
   "codemirror_mode": {
    "name": "ipython",
    "version": 3
   },
   "file_extension": ".py",
   "mimetype": "text/x-python",
   "name": "python",
   "nbconvert_exporter": "python",
   "pygments_lexer": "ipython3",
   "version": "3.6.3"
  }
 },
 "nbformat": 4,
 "nbformat_minor": 2
}
