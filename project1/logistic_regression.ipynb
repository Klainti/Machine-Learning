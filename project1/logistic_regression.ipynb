{
 "cells": [
  {
   "cell_type": "markdown",
   "metadata": {},
   "source": [
    "# Mini project 1\n",
    "\n",
    "\n",
    "Student name: Klajdi Bodurri\n",
    "    \n",
    "Github link: https://github.com/Klainti/Machine-Learning"
   ]
  },
  {
   "cell_type": "markdown",
   "metadata": {},
   "source": [
    "## Introduction (project statement)\n",
    "\n",
    "We have a dataset of patients treated in a cardiology department. Our goal is to build a **logistic regression** model to predict whether a patient takes part in the rehabilitation program or not."
   ]
  },
  {
   "cell_type": "markdown",
   "metadata": {},
   "source": [
    "## Descriptive analysis of the data\n",
    "\n",
    "Firstly, lets read the 'Data.csv' and print some rows to see what features we have"
   ]
  },
  {
   "cell_type": "code",
   "execution_count": 7,
   "metadata": {},
   "outputs": [
    {
     "data": {
      "text/html": [
       "<div>\n",
       "<style>\n",
       "    .dataframe thead tr:only-child th {\n",
       "        text-align: right;\n",
       "    }\n",
       "\n",
       "    .dataframe thead th {\n",
       "        text-align: left;\n",
       "    }\n",
       "\n",
       "    .dataframe tbody tr th {\n",
       "        vertical-align: top;\n",
       "    }\n",
       "</style>\n",
       "<table border=\"1\" class=\"dataframe\">\n",
       "  <thead>\n",
       "    <tr style=\"text-align: right;\">\n",
       "      <th></th>\n",
       "      <th>Reason</th>\n",
       "      <th>Gender</th>\n",
       "      <th>Age</th>\n",
       "      <th>Mobility</th>\n",
       "      <th>Distance</th>\n",
       "      <th>Participation</th>\n",
       "    </tr>\n",
       "  </thead>\n",
       "  <tbody>\n",
       "    <tr>\n",
       "      <th>0</th>\n",
       "      <td>Hospital readmission</td>\n",
       "      <td>M</td>\n",
       "      <td>61.3</td>\n",
       "      <td>No car</td>\n",
       "      <td>68.7</td>\n",
       "      <td>0</td>\n",
       "    </tr>\n",
       "    <tr>\n",
       "      <th>1</th>\n",
       "      <td>Hospital readmission</td>\n",
       "      <td>M</td>\n",
       "      <td>85.8</td>\n",
       "      <td>Car</td>\n",
       "      <td>86.3</td>\n",
       "      <td>0</td>\n",
       "    </tr>\n",
       "    <tr>\n",
       "      <th>2</th>\n",
       "      <td>Hospital readmission</td>\n",
       "      <td>F</td>\n",
       "      <td>65.0</td>\n",
       "      <td>No car</td>\n",
       "      <td>46.2</td>\n",
       "      <td>1</td>\n",
       "    </tr>\n",
       "    <tr>\n",
       "      <th>3</th>\n",
       "      <td>Hospital readmission</td>\n",
       "      <td>F</td>\n",
       "      <td>72.5</td>\n",
       "      <td>No car</td>\n",
       "      <td>39.7</td>\n",
       "      <td>0</td>\n",
       "    </tr>\n",
       "    <tr>\n",
       "      <th>4</th>\n",
       "      <td>Hospital readmission</td>\n",
       "      <td>M</td>\n",
       "      <td>93.0</td>\n",
       "      <td>No car</td>\n",
       "      <td>73.3</td>\n",
       "      <td>0</td>\n",
       "    </tr>\n",
       "  </tbody>\n",
       "</table>\n",
       "</div>"
      ],
      "text/plain": [
       "                 Reason Gender   Age Mobility  Distance  Participation\n",
       "0  Hospital readmission      M  61.3   No car      68.7              0\n",
       "1  Hospital readmission      M  85.8      Car      86.3              0\n",
       "2  Hospital readmission      F  65.0   No car      46.2              1\n",
       "3  Hospital readmission      F  72.5   No car      39.7              0\n",
       "4  Hospital readmission      M  93.0   No car      73.3              0"
      ]
     },
     "execution_count": 7,
     "metadata": {},
     "output_type": "execute_result"
    }
   ],
   "source": [
    "# import libraries\n",
    "import pandas as pd\n",
    "from sklearn.model_selection import train_test_split\n",
    "from sklearn.linear_model import LogisticRegression\n",
    "\n",
    "# read csv file\n",
    "data = pd.read_csv(\"Data.csv\", sep=\";\")\n",
    "\n",
    "# print 5 rows of data\n",
    "data.head(5)"
   ]
  },
  {
   "cell_type": "markdown",
   "metadata": {},
   "source": [
    "*Note only 5 from 500 rows are printed...*\n",
    "\n",
    "\n",
    "So, from the above chunk of code we can see that we have 5 features (X) and the target variable (y). \n",
    "\n",
    "**Features (predictors)**\n",
    "1. **Reason**   (Hospital readmission, Other obligations, Resumed work, Medical reasons etc..)\n",
    "2. **Gender**   (Male or Female)\n",
    "3. **Age**      (numeric, float)\n",
    "4. **Mobility** (Car or No car)\n",
    "5. **Distance** (numeric, float)\n",
    "    \n",
    "**Target variable**\n",
    "1. **Participation** (1 or 0, which means if someone will participate or not)\n",
    "    \n",
    "These 5 features are about to be used to predict if someone takes part in the rehabilitation program or not."
   ]
  },
  {
   "cell_type": "markdown",
   "metadata": {},
   "source": [
    "## Short explanation on what the data is about and how we are planning to use it in doing the task of the project\n",
    "\n",
    "*What each feature is about:*\n",
    "* **Reason** corresponds to the patient's reason of not taking the rehab program.\n",
    "* **Gender** corresponds to the gender of the patients.\n",
    "* **Age** corresponds the age of the patients.\n",
    "* **Mobility** corresponds to the patient's trasportation.\n",
    "* **Distance** corresponds to the distance from rehab center to his home.\n",
    "* **Participation** corresponds to the patient's will to participate the rehab program.\n",
    "\n",
    "We are going to use all the features to build our model, because they are caring a lot of information about the output and if we exclude one of them, maybe we will lose some infomation. But, some features, for example **Reason**, **Mobility** and **Gender** have not numeric values. So, we have to convert their values to numeric! (encode strings to numeric values with one-hot encoding). We **cannot** do regression with non-numeric values.\n",
    "\n",
    "More details: https://stackoverflow.com/questions/34007308/linear-regression-analysis-with-string-categorical-features-variables"
   ]
  },
  {
   "cell_type": "markdown",
   "metadata": {},
   "source": [
    "## The steps we are taking in order to perform the task"
   ]
  },
  {
   "cell_type": "markdown",
   "metadata": {},
   "source": [
    "#### 1. Separate features (predictors) from the target variable."
   ]
  },
  {
   "cell_type": "code",
   "execution_count": 8,
   "metadata": {},
   "outputs": [],
   "source": [
    "# get features!\n",
    "X = data[[\"Reason\",\"Gender\",\"Age\",\"Mobility\",\"Distance\"]]\n",
    "\n",
    "# get output!\n",
    "y = data[[\"Participation\"]]"
   ]
  },
  {
   "cell_type": "markdown",
   "metadata": {},
   "source": [
    "#### 2. Apply one-hot encoding to the values of Reason, Mobility and Gender."
   ]
  },
  {
   "cell_type": "code",
   "execution_count": 9,
   "metadata": {},
   "outputs": [],
   "source": [
    "# encode Reason, Gender and Mobility features with one-hot encode, since they are strings and not integers!\n",
    "X = pd.get_dummies(X, columns=['Reason', 'Gender', 'Mobility'])"
   ]
  },
  {
   "cell_type": "markdown",
   "metadata": {},
   "source": [
    "#### 3. Spliting X, y to train and test sets."
   ]
  },
  {
   "cell_type": "code",
   "execution_count": 10,
   "metadata": {},
   "outputs": [],
   "source": [
    "# 67% of our data will train the model and other 33% is for testing!\n",
    "X_train, X_test, y_train, y_test = train_test_split(X, y, test_size=0.33, random_state=42)"
   ]
  },
  {
   "cell_type": "markdown",
   "metadata": {},
   "source": [
    "#### 4. Training our model"
   ]
  },
  {
   "cell_type": "code",
   "execution_count": 11,
   "metadata": {},
   "outputs": [
    {
     "name": "stdout",
     "output_type": "stream",
     "text": [
      "Intercept: [ 1.92696799]\n",
      "Coefficients: [[-0.015975   -0.06108842  0.1285306  -0.00785177 -0.03079547  0.8579193\n",
      "  -0.38755738 -0.29048704 -0.06926309 -0.20969305 -0.11282085 -0.41452161\n",
      "   0.91727591  1.00969208  1.82690876  0.10005923]]\n"
     ]
    }
   ],
   "source": [
    "# init regression class\n",
    "regression_model = LogisticRegression()\n",
    "\n",
    "# calculate coefficients and intercept! (fir our model)\n",
    "fit = regression_model.fit(X_train, y_train.values.ravel()) # DataConversionWarning if we pass y_train instead y_train.values.ravel() !Expecting 1D array, not a vector..\n",
    "\n",
    "print(\"Intercept: {}\".format(fit.intercept_))\n",
    "print(\"Coefficients: {}\".format(fit.coef_))"
   ]
  },
  {
   "cell_type": "markdown",
   "metadata": {},
   "source": [
    "We were expecting to see 5 (coefficients) + 1 (intercept) because of 5 features that we are using, but somehow we have many more coefficients. The reason behind this is because the function get_dummies (look step 2) converts non-numerical values of the features to numeric by applying one-hot encoding. But nevertheless, the result is exactly the same as if we had 5 features. Nothing changes to  the accuracy of our model!!\n",
    "\n",
    "More details: https://pandas.pydata.org/pandas-docs/stable/generated/pandas.get_dummies.html"
   ]
  },
  {
   "cell_type": "markdown",
   "metadata": {},
   "source": [
    "#### 5. Checking the accuracy of our model by giving as input the test set."
   ]
  },
  {
   "cell_type": "code",
   "execution_count": 12,
   "metadata": {},
   "outputs": [
    {
     "name": "stdout",
     "output_type": "stream",
     "text": [
      "Accuracy: 0.806060606060606\n"
     ]
    }
   ],
   "source": [
    "# Measure the score! \n",
    "accuracy = fit.score(X_test, y_test)\n",
    "\n",
    "print(\"Accuracy: {}\".format(accuracy))"
   ]
  },
  {
   "cell_type": "markdown",
   "metadata": {},
   "source": [
    "**What is this 0.806060606060606**:\n",
    "It means that giving to our model a patient, it has the probability of 80% to correctly predict if the patient is going to participate in the rehab program or not. \n",
    "\n",
    "Is this accuracy is high or low ?\n",
    "\n",
    "Well, it really depends on the problem you are facing. For example, if you want to determine if someone has malignant or benign tumor, then of course the higher the accuracy of the model, the better. But in our rehab participation case, I think the accuracy of 80% is very good!"
   ]
  },
  {
   "cell_type": "markdown",
   "metadata": {},
   "source": [
    "## Conclusion\n",
    "\n",
    "We saw how to read a dataset, split it in train and test set and how to train the model and calculate the accuracy. We used a high level programming language to do the task so we didn't see the math behind the logistic regression.\n",
    "\n",
    "In summary, we applied all the knowledge that we took from the course into a real project and we achieved a very good performance!! "
   ]
  }
 ],
 "metadata": {
  "kernelspec": {
   "display_name": "Python 3.6",
   "language": "python",
   "name": "python36"
  },
  "language_info": {
   "codemirror_mode": {
    "name": "ipython",
    "version": 3
   },
   "file_extension": ".py",
   "mimetype": "text/x-python",
   "name": "python",
   "nbconvert_exporter": "python",
   "pygments_lexer": "ipython3",
   "version": "3.6.3"
  }
 },
 "nbformat": 4,
 "nbformat_minor": 2
}
