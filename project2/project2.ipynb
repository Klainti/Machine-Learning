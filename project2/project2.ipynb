{
 "cells": [
  {
   "cell_type": "markdown",
   "metadata": {
    "collapsed": true
   },
   "source": [
    "### Project2"
   ]
  },
  {
   "cell_type": "code",
   "execution_count": 17,
   "metadata": {},
   "outputs": [],
   "source": [
    "# import libraries!\n",
    "\n",
    "import pandas as pd\n",
    "import numpy as np"
   ]
  },
  {
   "cell_type": "code",
   "execution_count": 40,
   "metadata": {},
   "outputs": [
    {
     "name": "stdout",
     "output_type": "stream",
     "text": [
      "Dimension of the dataset: (7043, 21)\n"
     ]
    }
   ],
   "source": [
    "# read the dataset\n",
    "data = pd.read_excel(\"WA_Fn-UseC_-Telco-Customer-Churn.xlsx\", na_values=[\" \"])\n",
    "\n",
    "print(\"Dimension of the dataset: {}\".format(data.shape))\n",
    "\n",
    "# print the first 5 rows to see what the dataset is about\n",
    "data.head()\n",
    "\n",
    "#Changing from int to categorical\n",
    "data['SeniorCitizen']=pd.Categorical(data['SeniorCitizen']) \n",
    "\n",
    "# deleting the customerID features since it doesn't give any information about the churn..\n",
    "del data[\"customerID\"]\n",
    "data = data.dropna() # drop NA values\n",
    "\n",
    "# splitting the dataset to numeric and non-numeric \n",
    "numeric = data.select_dtypes(include = ['float64','int64'])\n",
    "non_numeric = data.select_dtypes(exclude = ['float64','int64'])"
   ]
  },
  {
   "cell_type": "markdown",
   "metadata": {},
   "source": [
    "The dataset has 7043 samples and 21 features. The features includes demographic information about the costumer like gender, age, if he/she has partner and dependents, type of services that the customer has signed up for. Also, account information like how long has been a costumer, contract, payment method, paperless billing, monthly charges and total chargers. Lastly, we have the churn feature which refers to the customers who left the company in the past month."
   ]
  },
  {
   "cell_type": "code",
   "execution_count": null,
   "metadata": {},
   "outputs": [],
   "source": []
  }
 ],
 "metadata": {
  "kernelspec": {
   "display_name": "Python 3.6",
   "language": "python",
   "name": "python36"
  },
  "language_info": {
   "codemirror_mode": {
    "name": "ipython",
    "version": 3
   },
   "file_extension": ".py",
   "mimetype": "text/x-python",
   "name": "python",
   "nbconvert_exporter": "python",
   "pygments_lexer": "ipython3",
   "version": "3.6.3"
  }
 },
 "nbformat": 4,
 "nbformat_minor": 2
}
