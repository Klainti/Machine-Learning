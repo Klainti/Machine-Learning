{
 "cells": [
  {
   "cell_type": "markdown",
   "metadata": {
    "collapsed": true
   },
   "source": [
    "# Project 3 - Movie Prediction\n",
    "\n",
    "Name: Klajdi Bodurri (74264)"
   ]
  },
  {
   "cell_type": "markdown",
   "metadata": {},
   "source": [
    "### Motivation and Goal\n",
    "\n",
    "We want to built a model to predict the success or the failure of movie which is about to be released. We have to select the features that are more suitable for our goal, to retrieve the movies data using OMDB API and finally train the models using movies that are released from 2006 to 2016 and test the models using movies that are released in 2017.\n",
    "\n",
    "### Approach\n",
    "\n",
    "**Steps**:\n",
    "    1. Read the dataset.\n",
    "    2. Drop N/A values.\n",
    "    3. Normalize runtime feature.\n",
    "    4. Encode nominal features.\n",
    "    5. Descriptive analysis of the dataset to get a basic idea of what the dataset is about     \n",
    "    6. Separate the dataset to train set (2006-2016 movies) and test test (2017 movies).\n",
    "    7. Train the models.\n",
    "    8. Measure the accuracy.\n",
    "    9. Show which model has the best accuracy and why \n",
    "    \n",
    "**For the implementation of the project we are going use modules such as**:\n",
    "    \n",
    "    1. matplotlib and sns (for descriptive analysis)\n",
    "    2. pandas (to handle the dataset)\n",
    "    3. sklearn (to build our models)\n",
    "\n",
    "**The models are**:\n",
    "\n",
    "    1. Linear Regression\n",
    "    2. Logistic Regression\n",
    "    3. Naive Bayes\n",
    "    4. Support Vector Machines"
   ]
  },
  {
   "cell_type": "markdown",
   "metadata": {},
   "source": [
    "### Import modules and libraries"
   ]
  },
  {
   "cell_type": "code",
   "execution_count": 28,
   "metadata": {},
   "outputs": [],
   "source": [
    "import pandas as pd\n",
    "\n",
    "import seaborn as sns\n",
    "\n",
    "import matplotlib.pyplot as plt\n",
    "\n",
    "from sklearn import svm\n",
    "\n",
    "from sklearn import preprocessing\n",
    "\n",
    "from sklearn.naive_bayes import BernoulliNB\n",
    "\n",
    "from sklearn.linear_model import LinearRegression\n",
    "\n",
    "from sklearn.linear_model import LogisticRegression\n",
    "\n",
    "from matplotlib.pyplot import subplots"
   ]
  },
  {
   "cell_type": "markdown",
   "metadata": {},
   "source": [
    "### Preparation of the dataset\n"
   ]
  },
  {
   "cell_type": "code",
   "execution_count": 29,
   "metadata": {},
   "outputs": [
    {
     "data": {
      "text/html": [
       "<div>\n",
       "<style>\n",
       "    .dataframe thead tr:only-child th {\n",
       "        text-align: right;\n",
       "    }\n",
       "\n",
       "    .dataframe thead th {\n",
       "        text-align: left;\n",
       "    }\n",
       "\n",
       "    .dataframe tbody tr th {\n",
       "        vertical-align: top;\n",
       "    }\n",
       "</style>\n",
       "<table border=\"1\" class=\"dataframe\">\n",
       "  <thead>\n",
       "    <tr style=\"text-align: right;\">\n",
       "      <th></th>\n",
       "      <th>Success_of_Movie</th>\n",
       "      <th>actor1</th>\n",
       "      <th>actor2</th>\n",
       "      <th>country</th>\n",
       "      <th>director</th>\n",
       "      <th>genre</th>\n",
       "      <th>id</th>\n",
       "      <th>language</th>\n",
       "      <th>released</th>\n",
       "      <th>runtime</th>\n",
       "      <th>writer</th>\n",
       "    </tr>\n",
       "  </thead>\n",
       "  <tbody>\n",
       "    <tr>\n",
       "      <th>0</th>\n",
       "      <td>Success</td>\n",
       "      <td>Rubens Correia</td>\n",
       "      <td>Ivan de Albuquerque</td>\n",
       "      <td>Brazil</td>\n",
       "      <td>Walter Lima Jr.</td>\n",
       "      <td>Drama</td>\n",
       "      <td>tt0066853</td>\n",
       "      <td>Portuguese</td>\n",
       "      <td>2016.0</td>\n",
       "      <td>68.0</td>\n",
       "      <td>Walter Lima Jr.</td>\n",
       "    </tr>\n",
       "    <tr>\n",
       "      <th>1</th>\n",
       "      <td>Success</td>\n",
       "      <td>Allen Garfield</td>\n",
       "      <td>Zack Norman</td>\n",
       "      <td>USA</td>\n",
       "      <td>Neil Cohen</td>\n",
       "      <td>Comedy</td>\n",
       "      <td>tt0094859</td>\n",
       "      <td>English</td>\n",
       "      <td>2016.0</td>\n",
       "      <td>74.0</td>\n",
       "      <td>Neil Cohen</td>\n",
       "    </tr>\n",
       "    <tr>\n",
       "      <th>2</th>\n",
       "      <td>Success</td>\n",
       "      <td>Tetta Sugimoto</td>\n",
       "      <td>Tomoko Yamaguchi</td>\n",
       "      <td>Japan</td>\n",
       "      <td>Junji Sakamoto</td>\n",
       "      <td>Comedy</td>\n",
       "      <td>tt0115686</td>\n",
       "      <td>Japanese</td>\n",
       "      <td>2008.0</td>\n",
       "      <td>100.0</td>\n",
       "      <td>Junji Sakamoto</td>\n",
       "    </tr>\n",
       "    <tr>\n",
       "      <th>3</th>\n",
       "      <td>Success</td>\n",
       "      <td>Ian Hart</td>\n",
       "      <td>Claudia Wells</td>\n",
       "      <td>USA</td>\n",
       "      <td>Halfdan Hussey</td>\n",
       "      <td>Drama</td>\n",
       "      <td>tt0117743</td>\n",
       "      <td>English</td>\n",
       "      <td>2008.0</td>\n",
       "      <td>83.0</td>\n",
       "      <td>Halfdan Hussey</td>\n",
       "    </tr>\n",
       "    <tr>\n",
       "      <th>4</th>\n",
       "      <td>Failure</td>\n",
       "      <td>Ally Sheedy</td>\n",
       "      <td>Brian O'Halloran</td>\n",
       "      <td>USA</td>\n",
       "      <td>Keith Spiegel</td>\n",
       "      <td>Comedy</td>\n",
       "      <td>tt0119231</td>\n",
       "      <td>English</td>\n",
       "      <td>2007.0</td>\n",
       "      <td>82.0</td>\n",
       "      <td>Keith Spiegel</td>\n",
       "    </tr>\n",
       "  </tbody>\n",
       "</table>\n",
       "</div>"
      ],
      "text/plain": [
       "  Success_of_Movie          actor1               actor2 country  \\\n",
       "0          Success  Rubens Correia  Ivan de Albuquerque  Brazil   \n",
       "1          Success  Allen Garfield          Zack Norman     USA   \n",
       "2          Success  Tetta Sugimoto     Tomoko Yamaguchi   Japan   \n",
       "3          Success        Ian Hart        Claudia Wells     USA   \n",
       "4          Failure     Ally Sheedy     Brian O'Halloran     USA   \n",
       "\n",
       "          director   genre         id    language  released  runtime  \\\n",
       "0  Walter Lima Jr.   Drama  tt0066853  Portuguese    2016.0     68.0   \n",
       "1       Neil Cohen  Comedy  tt0094859     English    2016.0     74.0   \n",
       "2   Junji Sakamoto  Comedy  tt0115686    Japanese    2008.0    100.0   \n",
       "3   Halfdan Hussey   Drama  tt0117743     English    2008.0     83.0   \n",
       "4    Keith Spiegel  Comedy  tt0119231     English    2007.0     82.0   \n",
       "\n",
       "            writer  \n",
       "0  Walter Lima Jr.  \n",
       "1       Neil Cohen  \n",
       "2   Junji Sakamoto  \n",
       "3   Halfdan Hussey  \n",
       "4    Keith Spiegel  "
      ]
     },
     "execution_count": 29,
     "metadata": {},
     "output_type": "execute_result"
    }
   ],
   "source": [
    "# read the dataset\n",
    "dataset = pd.read_csv(\"movies.csv\")\n",
    "\n",
    "# for printing purposes\n",
    "df = dataset\n",
    "\n",
    "# drop movie id\n",
    "dataset = dataset.drop(['id'], axis=1)\n",
    "\n",
    "# drop N/A values\n",
    "dataset = dataset.dropna(axis=0, how='any')\n",
    "\n",
    "# normalize the runtime!!!\n",
    "runtime = dataset[['runtime']].values.astype(float)\n",
    "dataset = dataset.drop(['runtime'], axis=1)\n",
    "runtime_scaled = preprocessing.scale(runtime)\n",
    "runtime_scaled = pd.DataFrame(runtime_scaled, columns=['runtime'])\n",
    "dataset = pd.concat([dataset, runtime_scaled], axis=1, ignore_index=False)\n",
    "\n",
    "# drop N/A values again because of runtime N/A values after the normalization\n",
    "dataset = dataset.dropna(axis=0, how='any')\n",
    "\n",
    "# separate the dataset to features and target variable\n",
    "X = dataset.loc[:, dataset.columns != 'Success_of_Movie']\n",
    "y = dataset[['Success_of_Movie']]\n",
    "\n",
    "# separate nominals and numeric features\n",
    "X_numeric = X[['runtime','released']]\n",
    "X_nominal = X.drop(['runtime', 'released'], axis=1)\n",
    "X_onehoted = pd.get_dummies(X_nominal)\n",
    "\n",
    "X = pd.concat([X_onehoted, X_numeric], axis=1, ignore_index=False)\n",
    "\n",
    "y = pd.get_dummies(y)\n",
    "y = pd.concat([y, dataset['released']], axis=1, ignore_index=False)\n",
    "\n",
    "# split to train and test set\n",
    "X_train = X.loc[X['released'] != 2017.0].drop(['released'], axis = 1)\n",
    "y_train = y.loc[y['released'] != 2017.0].drop(['released'], axis = 1)['Success_of_Movie_Success']\n",
    "\n",
    "X_test = X.loc[X['released'] == 2017.0].drop(['released'], axis = 1)\n",
    "y_test = y.loc[y['released'] == 2017.0].drop(['released'], axis = 1)['Success_of_Movie_Success']\n",
    "\n",
    "df.head()"
   ]
  },
  {
   "cell_type": "markdown",
   "metadata": {},
   "source": [
    "From the above output we can see our features. The Success_of_Movie column is the target variable. The value Success means that the movie has IMDB rating > 5 and the Failure means that the movie's rating is below 5. I didn't include features as the 'box office' because is something that you know after the movie is released. So, for example if we want to do the prediction for a movie that it will be released on 2019, we don't know the box office, but we know the actors, country, genre, writer etc... And this is useful because a production company can use this model to predict if a movie will be successful based on the movie cast. "
   ]
  },
  {
   "cell_type": "code",
   "execution_count": 30,
   "metadata": {},
   "outputs": [
    {
     "name": "stdout",
     "output_type": "stream",
     "text": [
      "Dimensions of train set: (781, 3407)\n",
      "Dimensions of test set: (95, 3407)\n"
     ]
    }
   ],
   "source": [
    "print(\"Dimensions of train set: {}\".format(X_train.shape))\n",
    "print(\"Dimensions of test set: {}\".format(X_test.shape))"
   ]
  },
  {
   "cell_type": "markdown",
   "metadata": {},
   "source": [
    "We will use 781 samples to train our models and 95 samples to measure the accuracy."
   ]
  },
  {
   "cell_type": "markdown",
   "metadata": {},
   "source": [
    "### Descriptive analysis\n",
    "\n",
    "Since we have a lot of nominal features, its more useful to plot some histograms. But, our nominal features can have a lot of different values so the histograms will be huge. I am going to plot a histogram only for the Genre feature just to get the basic idea."
   ]
  },
  {
   "cell_type": "code",
   "execution_count": 34,
   "metadata": {},
   "outputs": [
    {
     "data": {
      "text/plain": [
       "[]"
      ]
     },
     "execution_count": 34,
     "metadata": {},
     "output_type": "execute_result"
    },
    {
     "data": {
      "image/png": "[encoded data removed]",
      "text/plain": [
       "<matplotlib.figure.Figure at 0x7fbde96d0390>"
      ]
     },
     "metadata": {},
     "output_type": "display_data"
    }
   ],
   "source": [
    "fig, ax = subplots(figsize=(15,10))\n",
    "sns.countplot(x=\"genre\", hue='Success_of_Movie' , data=df, ax=ax)\n",
    "plt.plot()"
   ]
  },
  {
   "cell_type": "markdown",
   "metadata": {},
   "source": [
    "By this plot we can understand that the drama movies are more likely to be successful. By changing the x in sns.countplot we can see the histogram for others features as well. I didn't include them because then the report would be huge."
   ]
  },
  {
   "cell_type": "code",
   "execution_count": 40,
   "metadata": {},
   "outputs": [
    {
     "data": {
      "text/plain": [
       "[]"
      ]
     },
     "execution_count": 40,
     "metadata": {},
     "output_type": "execute_result"
    },
    {
     "data": {
      "image/png": "[encoded data removed]",
      "text/plain": [
       "<matplotlib.figure.Figure at 0x7fbde9358ac8>"
      ]
     },
     "metadata": {},
     "output_type": "display_data"
    }
   ],
   "source": [
    "sns.violinplot(x = \"Success_of_Movie\", y=\"runtime\", data = df)\n",
    "plt.plot()"
   ]
  },
  {
   "cell_type": "markdown",
   "metadata": {},
   "source": [
    "The only non nominal feature we have is the runtime and by this plot we can see that its more likely for a movie to be failure if its runtime is between 75-100 minutes."
   ]
  },
  {
   "cell_type": "markdown",
   "metadata": {},
   "source": [
    "### Time to build our models\n",
    "\n",
    "Since we seperated the dataset to train and test set, the next step is to build our models and measure the accuracy to see which model is better for our dataset."
   ]
  },
  {
   "cell_type": "code",
   "execution_count": 3,
   "metadata": {},
   "outputs": [
    {
     "name": "stdout",
     "output_type": "stream",
     "text": [
      "Logistic Regression: 0.79\n",
      "Linear Regression: 0.092\n",
      "Naive Bayes: 0.79\n",
      "SVM: 0.79\n"
     ]
    }
   ],
   "source": [
    "# models list\n",
    "models = []\n",
    "models.append(('Logistic Regression', LogisticRegression()))\n",
    "models.append(('Linear Regression', LinearRegression()))\n",
    "models.append(('Naive Bayes', BernoulliNB()))\n",
    "models.append(('SVM', svm.SVC()))\n",
    "results = []\n",
    "names = []\n",
    "\n",
    "# measure the accuracy of each model\n",
    "for name, model in models:\n",
    "    clf = model.fit(X_train, y_train) \n",
    "    print(\"{}: {:.2}\".format(name, clf.score(X_test, y_test)))"
   ]
  },
  {
   "cell_type": "markdown",
   "metadata": {},
   "source": [
    "We can say that the linear regression is the worst model to use since its accuracy is very low. But, the other 3 methods have a good accuracy. So, which one is the 'best' ? Well, it really depends on the data that you are using to train your model.\n",
    "\n",
    "About the perfomance, the SVM takes the most time, since the number of features is much greater than the number of samples after the encoding of the nominal features.\n",
    "\n",
    "On the other hand, Naive Bayes learners and classifiers can be extremely fast compared to more sophisticated methods. The decoupling of the class conditional feature distributions means that each distribution can be independently estimated as a one dimensional distribution. This in turn helps to alleviate problems stemming from the curse of dimensionality.\n",
    "\n",
    "Lastly, the Linear Regression is a method mostly used for regression problems, not classification, thats why it has so low accuracy."
   ]
  },
  {
   "cell_type": "code",
   "execution_count": null,
   "metadata": {},
   "outputs": [],
   "source": []
  }
 ],
 "metadata": {
  "kernelspec": {
   "display_name": "Python 3.6",
   "language": "python",
   "name": "python36"
  },
  "language_info": {
   "codemirror_mode": {
    "name": "ipython",
    "version": 3
   },
   "file_extension": ".py",
   "mimetype": "text/x-python",
   "name": "python",
   "nbconvert_exporter": "python",
   "pygments_lexer": "ipython3",
   "version": "3.6.3"
  }
 },
 "nbformat": 4,
 "nbformat_minor": 2
}
